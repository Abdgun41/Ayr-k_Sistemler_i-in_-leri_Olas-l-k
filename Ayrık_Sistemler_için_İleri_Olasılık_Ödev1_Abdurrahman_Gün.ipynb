{
  "nbformat": 4,
  "nbformat_minor": 0,
  "metadata": {
    "colab": {
      "name": "Ayrık Sistemler için İleri Olasılık Ödev1_Abdurrahman_Gün",
      "provenance": [],
      "collapsed_sections": [],
      "authorship_tag": "ABX9TyM1L3q8LxNikdDD0zUvXzCS",
      "include_colab_link": true
    },
    "kernelspec": {
      "name": "python3",
      "display_name": "Python 3"
    },
    "language_info": {
      "name": "python"
    }
  },
  "cells": [
    {
      "cell_type": "markdown",
      "metadata": {
        "id": "view-in-github",
        "colab_type": "text"
      },
      "source": [
        "<a href=\"https://colab.research.google.com/github/Abdgun41/Ayrik_Sistemler_icin_-leri_Olasilik/blob/main/Ayr%C4%B1k_Sistemler_i%C3%A7in_%C4%B0leri_Olas%C4%B1l%C4%B1k_%C3%96dev1_Abdurrahman_G%C3%BCn.ipynb\" target=\"_parent\"><img src=\"https://colab.research.google.com/assets/colab-badge.svg\" alt=\"Open In Colab\"/></a>"
      ]
    },
    {
      "cell_type": "markdown",
      "source": [
        "# **Güvercin Yuvası Prensibi ve Olasılık Örnek Soru**"
      ],
      "metadata": {
        "id": "XpJwdW7jzprt"
      }
    },
    {
      "cell_type": "markdown",
      "source": [
        "**Soru**: 7 günlük haftalık periyotlar halinde çalışan Tahsinin günde en az 1 saat, maksimumda ise 11 saat çalıştığı bilinmektedir. 8 hafta boyunca toplamda 450 saat çalışan Tahsine ikramiye için bu 8 hafta içerisinden rastgele bir hafta seçilecektir.Tahsinin en fazla çalıştığı bir hafta için çalışma miktarı en az kaç saat olabilir? Bu durumda ikramiye için rastgele seçilen bu haftanın Tahsin'in en çok çalıştığı haftalardan biri olma olasılığı nedir?\n",
        "\n",
        "**Cevap:** Güvercin yasası prensibine göre Tahsin 1 haftada maksimum ⌈450/8⌉=57 saat çalışabilir. 450 saatin 8 haftaya bölümünden kalan (veya direk 8 e göre modu alınırsa sonuç) 2 çıkacaktır. Bu durumda Tahsin iki hafta 57'şer saat çalışacak geri kalan 6 hafta ise 56'şar saat çalışacaktır.Böylece eğer Tahsinin ikramiye için seçilmesi olayında 57 saat çalıştığı haftaların sayısına s(A)=2 denilirse ve çalışılan tüm haftaları içeren toplam hafta sayısını s(B)=8 ile gösterirsek bu iki haftanın seçilme olayının olasılığı P(A) = s(A)/s(B) = 2/8 =1/4 çıkacaktır."
      ],
      "metadata": {
        "id": "sPf1eYRYPs04"
      }
    },
    {
      "cell_type": "code",
      "source": [
        "toplam_calisma_saati = 450\n",
        "toplam_hafta_sayisi = 8\n",
        "if toplam_calisma_saati % toplam_hafta_sayisi == 0:\n",
        "  maxsaat_calisilan_hafta_sayisi = 8\n",
        "else:\n",
        "  maxsaat_calisilan_hafta_sayisi = toplam_calisma_saati % toplam_hafta_sayisi\n",
        "if maxsaat_calisilan_hafta_sayisi == 8:\n",
        "  haftalik_max_calisma_saati = toplam_calisma_saati / toplam_hafta_sayisi\n",
        "else:\n",
        "  haftalik_max_calisma_saati = int(toplam_calisma_saati/toplam_hafta_sayisi)+1\n",
        "print(\"Tahsin'in bir haftadaki maksimum çalışma saati:\") \n",
        "haftalik_max_calisma_saati\n"
      ],
      "metadata": {
        "colab": {
          "base_uri": "https://localhost:8080/"
        },
        "id": "DUBX3UPEiAHr",
        "outputId": "3fba929d-90ae-49e7-8c89-1660098bc94a"
      },
      "execution_count": null,
      "outputs": [
        {
          "output_type": "stream",
          "name": "stdout",
          "text": [
            "Tahsin'in bir haftadaki maksimum çalışma saati:\n"
          ]
        },
        {
          "output_type": "execute_result",
          "data": {
            "text/plain": [
              "57"
            ]
          },
          "metadata": {},
          "execution_count": 16
        }
      ]
    },
    {
      "cell_type": "code",
      "source": [
        "max_calisilan_haftanin_secilme_olasiligi = maxsaat_calisilan_hafta_sayisi / toplam_hafta_sayisi\n",
        "print(\"En fazla çalışılan haftaların ikramiye için seçilme olasılığı:\")\n",
        "max_calisilan_haftanin_secilme_olasiligi"
      ],
      "metadata": {
        "colab": {
          "base_uri": "https://localhost:8080/"
        },
        "id": "H9NA92VoxE1n",
        "outputId": "8609ccec-6150-4498-cb61-b275aa4d7f76"
      },
      "execution_count": null,
      "outputs": [
        {
          "output_type": "stream",
          "name": "stdout",
          "text": [
            "En fazla çalışılan haftaların ikramiye için seçilme olasılığı:\n"
          ]
        },
        {
          "output_type": "execute_result",
          "data": {
            "text/plain": [
              "0.25"
            ]
          },
          "metadata": {},
          "execution_count": 17
        }
      ]
    }
  ]
}