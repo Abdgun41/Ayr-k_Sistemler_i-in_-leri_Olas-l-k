{
  "nbformat": 4,
  "nbformat_minor": 0,
  "metadata": {
    "colab": {
      "name": "Ayrık Sistemler için İleri Olasılık Ödev2_Abdurrahman_Gün",
      "provenance": [],
      "authorship_tag": "ABX9TyNxQjXZzEGk7ph84r62+W5t",
      "include_colab_link": true
    },
    "kernelspec": {
      "name": "python3",
      "display_name": "Python 3"
    },
    "language_info": {
      "name": "python"
    }
  },
  "cells": [
    {
      "cell_type": "markdown",
      "metadata": {
        "id": "view-in-github",
        "colab_type": "text"
      },
      "source": [
        "<a href=\"https://colab.research.google.com/github/Abdgun41/Ayrik_Sistemler_icin_-leri_Olasilik/blob/main/Ayr%C4%B1k_Sistemler_i%C3%A7in_%C4%B0leri_Olas%C4%B1l%C4%B1k_%C3%96dev2_Abdurrahman_G%C3%BCn.ipynb\" target=\"_parent\"><img src=\"https://colab.research.google.com/assets/colab-badge.svg\" alt=\"Open In Colab\"/></a>"
      ]
    },
    {
      "cell_type": "markdown",
      "source": [
        "# **Kombinasyon ve Olasılık Örnek Soru**"
      ],
      "metadata": {
        "id": "H4fADniQzISR"
      }
    },
    {
      "cell_type": "markdown",
      "source": [
        "**Soru:**Bir kalemlikte 14 tükenmez, 6 kurşun kalem vardır. Bu kalemlikten aynı anda 4 kalem alınıyor. Alınan kalemlerden en az birinin tükenmez kalem olduğu bilindiğine göre, dört kalemin de tükenmez kalem olma olasılığı nedir?\n",
        "\n",
        "**Cevap:** Öncelikle bizden istenen 4 tükenmez kalemin aynı anda alınabileceği farklı durumların sayısı C(14,4) ile bulunur. Sonrasında toplamda kaç farklı olası durum olduğunu bulmak için ise rastgele 4 kalemin seçilme durumları sayısından 4 kalemin de kurşun kalem olma durum sayısından çıkarılır. Bu değer  C(20,4)-C(6,4) işlemi sonucunda elde edilir. Son olarak ilk hesaplanan aynı anda 4 tükenmez kalemin seçilme durumlarının sayısını tüm olası durumların sayısına bölünerek dört kalemin de tükenmez kalem olma olasılığı C(14,4)/(C(20,4)-C(6,4))bulunmuş olur."
      ],
      "metadata": {
        "id": "HeKoh731dJ5s"
      }
    },
    {
      "cell_type": "code",
      "source": [
        "def faktoriyel(sayi):\n",
        "    if sayi==1:\n",
        "        return 1\n",
        "    else:\n",
        "        return sayi * faktoriyel(sayi-1) \n",
        "\n",
        "def kombinasyon(n,r):\n",
        "  return faktoriyel(n)/(faktoriyel(n-r)*faktoriyel(r))\n",
        "\n",
        "dort_tukenmez_seçme_durum_sayisi = kombinasyon(14,4)\n",
        "print(\"Aynı anda 4 tükenmez kalem seçme durum sayısı:\", dort_tukenmez_seçme_durum_sayisi)\n",
        "dort_kalem_seçilmesi_toplam_durum_sayisi = kombinasyon(20,4)\n",
        "print(\"Aynı anda herhangi 4 kalemin seçilme durumlarının toplam sayısı:\", dort_kalem_seçilmesi_toplam_durum_sayisi)\n",
        "dort_kursun_seçme_durum_sayisi = kombinasyon(6,4)\n",
        "print(\"Seçilen 4 kalemin de kurşun olma durumlarının sayısı:\", dort_kursun_seçme_durum_sayisi)\n",
        "\n",
        "dort_kalemin_tukenmez_olma_olasılığı = dort_tukenmez_seçme_durum_sayisi /(dort_kalem_seçilmesi_toplam_durum_sayisi-dort_kursun_seçme_durum_sayisi)\n",
        "print(\"Aynı anda seçilen 4 kalemin de tükenmez olma olasılığı:\", dort_kalemin_tukenmez_olma_olasılığı)"
      ],
      "metadata": {
        "colab": {
          "base_uri": "https://localhost:8080/"
        },
        "id": "CJlHB6QzdLn2",
        "outputId": "108daa6c-4a87-4934-d00b-3b6d222da114"
      },
      "execution_count": null,
      "outputs": [
        {
          "output_type": "stream",
          "name": "stdout",
          "text": [
            "Aynı anda 4 tükenmez kalem seçme durum sayısı: 1001.0\n",
            "Aynı anda herhangi 4 kalemin seçilme durumlarının toplam sayısı: 4845.0\n",
            "Seçilen 4 kalemin de kurşun olma durumlarının sayısı: 15.0\n",
            "Aynı anda seçilen 4 kalemin de tükenmez olma olasılığı: 0.2072463768115942\n"
          ]
        }
      ]
    }
  ]
}