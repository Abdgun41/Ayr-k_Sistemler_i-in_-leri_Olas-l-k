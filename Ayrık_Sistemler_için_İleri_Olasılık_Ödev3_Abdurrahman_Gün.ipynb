{
  "nbformat": 4,
  "nbformat_minor": 0,
  "metadata": {
    "colab": {
      "name": "Ayrık Sistemler için İleri Olasılık Ödev3_Abdurrahman_Gün",
      "provenance": [],
      "toc_visible": true,
      "authorship_tag": "ABX9TyM4WqjGDk95dHKoV++JUTOy",
      "include_colab_link": true
    },
    "kernelspec": {
      "name": "python3",
      "display_name": "Python 3"
    },
    "language_info": {
      "name": "python"
    }
  },
  "cells": [
    {
      "cell_type": "markdown",
      "metadata": {
        "id": "view-in-github",
        "colab_type": "text"
      },
      "source": [
        "<a href=\"https://colab.research.google.com/github/Abdgun41/Ayrik_Sistemler_icin_-leri_Olasilik/blob/main/Ayr%C4%B1k_Sistemler_i%C3%A7in_%C4%B0leri_Olas%C4%B1l%C4%B1k_%C3%96dev3_Abdurrahman_G%C3%BCn.ipynb\" target=\"_parent\"><img src=\"https://colab.research.google.com/assets/colab-badge.svg\" alt=\"Open In Colab\"/></a>"
      ]
    },
    {
      "cell_type": "markdown",
      "source": [
        "# **Temel Olasılık Örnek Soru**"
      ],
      "metadata": {
        "id": "YjYuCLJ1coEb"
      }
    },
    {
      "cell_type": "markdown",
      "source": [
        "**SORU:** Bir torbada **beyaz** (5), **yeşil** (4) ve **kırmızı** (8) toplar bulunmaktadır. Her defasında çekilen topun torbaya geri konulması şartıyla peş peşe çekilen **n** (5) tane topun en az **p** (3) tanesinin aynı renkte olma olasılığı nedir? \n",
        "\n",
        "**CEVAP:** Öncelikle torbadan bir top çekildiğinde her renk için çıkma olasılığına birim olasılık denirse istenen renkte topun çekilme olasılığı istenen renkte top sayısının toplam top sayısına bölümüne eşit olacaktır:\n",
        "\n",
        "Beyaz top çekilme olasılığı   => b = b/(b+y+k)  \n",
        "Yeşil top çekilme olasılığı     => y = y/(b+y+k)  \n",
        "Kırmızı top çekilme olasılığı => k = k/(b+y+k)  \n",
        "\n",
        "Birbirinden bağımsız olarak çekilen 5 top için çıkan topların renk sayılarını (beyazts,yesilts,kirmizits) şeklinde yazacak olursak;\n",
        "\n",
        "beyazts+yesilts+kirmizits = çekilen toplam top sayısına eşit olur. \n",
        "\n",
        "Bu durumda (beyazts,yesilts,kirmizits) şeklindeki tek bir durum için olasılık (b^beyazts)*(*y^yesilts*)*(k^kirmizits) şeklinde hesaplanır. Bizden istenen bu renklerden en az bir tanesinin p (3) den fazla olması durumlarıdır. Tüm bu istenen durumlar için durum olasılıkları ayrı ayrı yukarıdaki formüle göre hesaplanıp toplandığında genel olasılık değerini elde edilmiş olur. Aşağıdaki kodun çıktısında istenen tüm olasılık durumları bir liste şeklinde sıralanarak karşılarında hesaplanmış durum olasılık değerleri verilmektedir. Son olarak tüm durum olasılık değerlerinin toplanmasıyla elde edilen genel olasılık değeri en altta gösterilmektedir."
      ],
      "metadata": {
        "id": "5IsLjcr4c8u4"
      }
    },
    {
      "cell_type": "code",
      "execution_count": null,
      "metadata": {
        "id": "Bj-2E2vbtlrS",
        "colab": {
          "base_uri": "https://localhost:8080/"
        },
        "outputId": "0124cc58-4959-479d-ed88-196cd5647671"
      },
      "outputs": [
        {
          "output_type": "stream",
          "name": "stdout",
          "text": [
            "Çekilen topların sayı durumları:(beyaz top sayisi, yesil top sayisi, kirmizi top sayisi)\n",
            "(3,0,2) => 0.005634370221789941\n",
            "(3,1,1) => 0.0028171851108949706\n",
            "(3,2,0) => 0.0014085925554474853\n",
            "(4,0,1) => 0.0035214813886187135\n",
            "(4,1,0) => 0.0017607406943093568\n",
            "(5,0,0) => 0.002200925867886696\n",
            "(0,3,2) => 0.00288479755355645\n",
            "(1,3,1) => 0.001802998470972781\n",
            "(2,3,0) => 0.0011268740443579884\n",
            "(0,4,1) => 0.0014423987767782248\n",
            "(1,4,0) => 0.0009014992354863905\n",
            "(0,5,0) => 0.0007211993883891124\n",
            "(0,2,3) => 0.0057695951071129\n",
            "(1,1,3) => 0.007211993883891125\n",
            "(2,0,3) => 0.009014992354863907\n",
            "(0,1,4) => 0.011539190214225798\n",
            "(1,0,4) => 0.014423987767782248\n",
            "(0,0,5) => 0.023078380428451596\n",
            "\n",
            "Olayın toplam gerçekleşme olasılığı:0.0972612030648157\n"
          ]
        }
      ],
      "source": [
        "def durumlari_goster(beyazts, yesilts, kirmizits, toplam_cekilen_top_sayisi,enaz_aynı_renkli_top_sayisi):\n",
        "  toplamts = beyazts+yesilts+kirmizits\n",
        "  beyazbirimolasilik = beyazts/toplamts\n",
        "  yesilbirimolasilik = yesilts/toplamts\n",
        "  kirmizibirimolasilik = kirmizits/toplamts\n",
        "  genelolasilik=0\n",
        "  durum_olasilik=1\n",
        "  uniquedurumlist=[]\n",
        "  uniquedurumolasiliklist=[]\n",
        "  print(\"Çekilen topların sayı durumları:(beyaz top sayisi, yesil top sayisi, kirmizi top sayisi)\")\n",
        "  for renk in range(3):\n",
        "    for top1 in range(enaz_aynı_renkli_top_sayisi,toplam_cekilen_top_sayisi+1):\n",
        "      top2=0\n",
        "      top3=toplam_cekilen_top_sayisi-top1 \n",
        "      for t in range(top3+1):\n",
        "            strtop1 = str(top1)\n",
        "            strtop2 = str(top2)\n",
        "            strtop3 = str(top3)\n",
        "            if(renk==0):\n",
        "              cikti = \"(\" + strtop1 + \",\" + strtop2 + \",\" + strtop3 + \")\"\n",
        "              durum_olasilik = (beyazbirimolasilik**top1)*(yesilbirimolasilik**top2)*(kirmizibirimolasilik**top3)\n",
        "            if(renk==1):\n",
        "              cikti = \"(\" + strtop2 + \",\" + strtop1 + \",\" + strtop3 + \")\"\n",
        "              durum_olasilik = (beyazbirimolasilik**top2)*(yesilbirimolasilik**top1)*(kirmizibirimolasilik**top3)\n",
        "            if(renk==2):\n",
        "              cikti = \"(\" + strtop2 + \",\" + strtop3 + \",\" + strtop1 + \")\"  \n",
        "              durum_olasilik = (beyazbirimolasilik**top2)*(yesilbirimolasilik**top3)*(kirmizibirimolasilik**top1)\n",
        "            unique = 1\n",
        "            for i in uniquedurumlist:\n",
        "              if(i==cikti):\n",
        "                unique = 0\n",
        "            if(unique ==1):\n",
        "              uniquedurumlist.append(cikti)\n",
        "              uniquedurumolasiliklist.append(durum_olasilik)\n",
        "              genelolasilik += durum_olasilik\n",
        "            top2=top2+1\n",
        "            top3=top3-1\n",
        "  for i in range(len(uniquedurumlist)):\n",
        "    print(str(uniquedurumlist[i])+\" => \" + str(uniquedurumolasiliklist[i])) \n",
        "  print(\"\\nOlayın toplam gerçekleşme olasılığı:\" + str(genelolasilik))         \n",
        "\n",
        "b=5\n",
        "y=4\n",
        "k=8\n",
        "n=5\n",
        "p=3\n",
        "durumlari_goster(b,y,k,n,p)"
      ]
    }
  ]
}