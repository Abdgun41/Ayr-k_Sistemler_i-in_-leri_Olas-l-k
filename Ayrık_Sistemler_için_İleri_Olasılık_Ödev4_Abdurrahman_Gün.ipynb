{
  "nbformat": 4,
  "nbformat_minor": 0,
  "metadata": {
    "colab": {
      "name": "Ayrık Sistemler için İleri Olasılık Ödev4_Abdurrahman_Gün.ipynb",
      "provenance": [],
      "authorship_tag": "ABX9TyNDIMmaF1ZvQwjAjgl1G0G0",
      "include_colab_link": true
    },
    "kernelspec": {
      "name": "python3",
      "display_name": "Python 3"
    },
    "language_info": {
      "name": "python"
    }
  },
  "cells": [
    {
      "cell_type": "markdown",
      "metadata": {
        "id": "view-in-github",
        "colab_type": "text"
      },
      "source": [
        "<a href=\"https://colab.research.google.com/github/Abdgun41/Ayrik_Sistemler_icin_-leri_Olasilik/blob/main/Ayr%C4%B1k_Sistemler_i%C3%A7in_%C4%B0leri_Olas%C4%B1l%C4%B1k_%C3%96dev4_Abdurrahman_G%C3%BCn.ipynb\" target=\"_parent\"><img src=\"https://colab.research.google.com/assets/colab-badge.svg\" alt=\"Open In Colab\"/></a>"
      ]
    },
    {
      "cell_type": "markdown",
      "source": [
        "# **Koşullu Olasılık - Bayes Örnek Soru**"
      ],
      "metadata": {
        "id": "TIgsW_5GIiLP"
      }
    },
    {
      "cell_type": "markdown",
      "source": [
        "**Soru:** Nüfusun yüzde 10'unda görülen bir hastalığı taşıyan insanlardan yüzde 60'ı X genini sahiptir. Hastalığı taşımayan insanların yüzde 25 inde bu gen bulunmaktadır. X genine sahip kişilerin hasta olma ihtimali nedir?\n",
        "\n",
        "**Cevap:** Hastalık taşıyanların kümesine H, X genini taşıyanların kümesine ise X denirse;\n",
        "\n",
        "P(H)     => Hasta olma olasılığını,\\\n",
        "P(H')    => Hasta olmama olasılığını,\\\n",
        "P(X)     => X genini taşıma olasılığını,\\\n",
        "P(X')    => X genini taşımama olasılığını\\\n",
        "P(X | H)   => Hastalık taşıyanlarda X geninin bulunma olasılığını\\\n",
        "P(X' | H)  => Hastalık taşıyanlarda X geninin bulunmama olasılığını\\\n",
        "P(X | H')  => Hastalık taşımayanlarda X geninin bulunma olasılığını\\\n",
        "P(X' | H') => Hastalık taşımayanlarda X geninin bulunmama olasılığını\\\n",
        "P(H | X) =>  X geni bulunanlarda hastalık olma olasılığını\\\n",
        " göstermektedir.\n",
        "\n",
        "Sorudan P(H) = 0,1 ; P(X | H) = 0,6 ; P(X | H') = 0,25 olarak verilmiş ve bizden P(H | X) olasılık değeri istenmektedir.\n",
        "\n",
        "P(H) + P(H') = 1 olduğu için buradan P(H') = 1 - P(H) **-->** **P(H')** = 1 - 0,1 = **0,9**\n",
        "\n",
        " P(X | H) + P(X' | H) = 1 **-->** P(X' | H) = 1 - P(X | H) **-->** **P(X' | H)** = 1 - 0,6 = **0,4**\n",
        "\n",
        " P(X | H') + P(X' | H') = 1 **-->** P(X' | H') = 1 - P(X | H') **-->** **P(X' | H')** = 1 - 0,25 = **0,75** olur.\n",
        "\n",
        "Bayes teoreminden P(H | X) P(X) = P(X | H) P(H) **-->** P(H | X) = P(X | H) P(H) / P(X) **-->** P(H | X) = 0,6 x 0,1 / P(X) Burada P(X) i aşağıdaki ifadeden elde ederiz.\n",
        "\n",
        "P(X) = P(H ∩ X) + P(H' ∩ X) = P(X | H) P(H) + P(X | H') P(H')\n",
        "\n",
        "P(H ∩ X) = P(X | H) P(H) = 0,6 x 0,1 = 0,06\n",
        "\n",
        "P(H' ∩ X) = P(X | H') P(H') = 0,25 x 0,9 = 0,225\n",
        "\n",
        "P(X) = 0,06 + 0,225 = 0,285\n",
        "\n",
        "P(X) değerini yukarıdaki eşitlikte yerine koyarsak;\n",
        "\n",
        "**P(H | X)** = 0,6 x 0,1 / 0,285 = **0,210** olarak bulunur"
      ],
      "metadata": {
        "id": "es-Oim7LI7q2"
      }
    },
    {
      "cell_type": "code",
      "execution_count": 10,
      "metadata": {
        "colab": {
          "base_uri": "https://localhost:8080/"
        },
        "id": "sjix0PD9IUmv",
        "outputId": "cf8305d8-e3ab-416f-9d63-dac6ef0e921e"
      },
      "outputs": [
        {
          "output_type": "stream",
          "name": "stdout",
          "text": [
            "0.21052631578947364\n"
          ]
        }
      ],
      "source": [
        "\n",
        "H=0.1\n",
        "XH=0.6\n",
        "XNH=0.25\n",
        "\n",
        "NH=1-H\n",
        "NXH = 1 - XH\n",
        "NXNH = 1 - XNH\n",
        "\n",
        "HAX = XH*H\n",
        "NHAX = XNH*NH\n",
        "\n",
        "X = HAX + NHAX\n",
        "\n",
        "HX = XH*H/X\n",
        "print(HX)"
      ]
    }
  ]
}